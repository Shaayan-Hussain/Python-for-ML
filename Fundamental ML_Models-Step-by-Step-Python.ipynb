{
 "cells": [
  {
   "cell_type": "markdown",
   "metadata": {},
   "source": [
    "# <u>Iris Species</u>"
   ]
  },
  {
   "cell_type": "markdown",
   "metadata": {},
   "source": [
    "##  Data"
   ]
  },
  {
   "cell_type": "markdown",
   "metadata": {},
   "source": [
    "The data being used is a simple data about Iris flowers with different columns containing information about them. Flowers have 3 different species.\n",
    "\n",
    "Data consists of 50 samples from each of three species of Iris (Iris setosa, Iris virginica and Iris versicolor).\n",
    "\n",
    "Four columns are given for each sample:  length and width of sepals and petals(cm)"
   ]
  },
  {
   "cell_type": "markdown",
   "metadata": {},
   "source": [
    "## Problem statement"
   ]
  },
  {
   "cell_type": "markdown",
   "metadata": {},
   "source": [
    "Classify Iris plants into three species in this classic dataset."
   ]
  },
  {
   "cell_type": "markdown",
   "metadata": {},
   "source": [
    "## Steps of running a ML model\n",
    "<ul>\n",
    "<li>Step 1. Get the Data</li>\n",
    "<li>Step 2. Prepare the Data</li>\n",
    "<li>Step 3. Create Training and Testing sets</li>\n",
    "<li>Step 4. Choosing a model</li>\n",
    "<li>Step 5. Training the model</li>\n",
    "<li>Step 6. Evaluation</li>\n",
    "<li>Step 7. Optimization</li>\n",
    "<li>Step 8. Prediction (Created Model into the Action)</li>\n",
    "</ul>  "
   ]
  },
  {
   "cell_type": "markdown",
   "metadata": {},
   "source": [
    "## <font color=blue>Step 1: Get the data</font>"
   ]
  },
  {
   "cell_type": "markdown",
   "metadata": {},
   "source": [
    "## Importing libraries"
   ]
  },
  {
   "cell_type": "markdown",
   "metadata": {},
   "source": [
    "**Just a little background of the frequently used libraries<br><br>**\n",
    "\n",
    "**Pandas:** Pandas package is used for Data Manipulation and Analysis.\n",
    "<br>https://pandas.pydata.org/pandas-docs/version/0.15/tutorials.html<br><br>\n"
   ]
  },
  {
   "cell_type": "markdown",
   "metadata": {},
   "source": [
    "**Numpy:** NumPy package is used for Scientific Computing.\n",
    "<br>https://numpy.org/devdocs/user/quickstart.html<br><br>\n"
   ]
  },
  {
   "cell_type": "markdown",
   "metadata": {},
   "source": [
    "**Matplotlib:** Matplotlib package is used for creating static, animated, and interactive visualizations\n",
    "    <br>https://matplotlib.org/gallery/index.html<br><br>\n"
   ]
  },
  {
   "cell_type": "markdown",
   "metadata": {},
   "source": [
    "**Seaborn:** Seaborn is a library for making statistical graphics. It is built on top of matplotlib and closely integrated with pandas data structures.\n",
    "    <br>https://seaborn.pydata.org/tutorial.html"
   ]
  },
  {
   "cell_type": "code",
   "execution_count": null,
   "metadata": {},
   "outputs": [],
   "source": [
    "import pandas as pd # importing pandas and renaming it as pd for easier use\n",
    "import numpy as np #import and rename\n",
    "import matplotlib.pyplot as plt #import and rename\n",
    "import seaborn as sns #import and rename"
   ]
  },
  {
   "cell_type": "markdown",
   "metadata": {},
   "source": [
    "## Loading dataset into a dataframe"
   ]
  },
  {
   "cell_type": "markdown",
   "metadata": {},
   "source": [
    "**Dataframe:** A dataframe is like a table which can have different columns of different datatypes. Basically you need a dataframe to store all the data into a variable which can be used and modified within the code without affecting the source data where you read it from."
   ]
  },
  {
   "cell_type": "code",
   "execution_count": null,
   "metadata": {},
   "outputs": [],
   "source": [
    "df=sns.load_dataset('iris')"
   ]
  },
  {
   "cell_type": "markdown",
   "metadata": {},
   "source": [
    "IRIS dataset comes with the in-built libraries.So, we used **sns.load_dataset **<br>Alternatively we can download the dataset and load it using **pd.read_csv()** function and specifying the path of the files as parameter to .read_csv(). Pandas provides  file reading of other formats as well.\n"
   ]
  },
  {
   "cell_type": "markdown",
   "metadata": {},
   "source": [
    "## <font color=blue>Step 2: Prepare the data</font>"
   ]
  },
  {
   "cell_type": "markdown",
   "metadata": {},
   "source": [
    "**Before preparation we need to see the data quality using Exploratory Data Analysis. If we find issues in the data, then we will prepare(fix) it accordingly**"
   ]
  },
  {
   "cell_type": "code",
   "execution_count": null,
   "metadata": {},
   "outputs": [],
   "source": []
  },
  {
   "cell_type": "markdown",
   "metadata": {},
   "source": [
    "## Exploratory Data Analysis(EDA)"
   ]
  },
  {
   "cell_type": "markdown",
   "metadata": {},
   "source": [
    "**Exploratory data analysis is important for determining what steps are needed to be taken for data preparation.**\n",
    "\n",
    "**It includes statistical metrics, visualizations on overall and columns combination level.**"
   ]
  },
  {
   "cell_type": "markdown",
   "metadata": {},
   "source": [
    "**Below are some primary checks to start with**"
   ]
  },
  {
   "cell_type": "markdown",
   "metadata": {},
   "source": [
    "### Looking at the data to see how the rows and columns are "
   ]
  },
  {
   "cell_type": "markdown",
   "metadata": {},
   "source": [
    "**This .head() function allows to see first 5 rows for dataset by default. For checking more rows,like 10, use df.head(10)**"
   ]
  },
  {
   "cell_type": "code",
   "execution_count": 51,
   "metadata": {},
   "outputs": [
    {
     "data": {
      "text/html": [
       "<div>\n",
       "<style scoped>\n",
       "    .dataframe tbody tr th:only-of-type {\n",
       "        vertical-align: middle;\n",
       "    }\n",
       "\n",
       "    .dataframe tbody tr th {\n",
       "        vertical-align: top;\n",
       "    }\n",
       "\n",
       "    .dataframe thead th {\n",
       "        text-align: right;\n",
       "    }\n",
       "</style>\n",
       "<table border=\"1\" class=\"dataframe\">\n",
       "  <thead>\n",
       "    <tr style=\"text-align: right;\">\n",
       "      <th></th>\n",
       "      <th>sepal_length</th>\n",
       "      <th>sepal_width</th>\n",
       "      <th>petal_length</th>\n",
       "      <th>petal_width</th>\n",
       "      <th>species</th>\n",
       "    </tr>\n",
       "  </thead>\n",
       "  <tbody>\n",
       "    <tr>\n",
       "      <th>0</th>\n",
       "      <td>5.1</td>\n",
       "      <td>3.5</td>\n",
       "      <td>1.4</td>\n",
       "      <td>0.2</td>\n",
       "      <td>setosa</td>\n",
       "    </tr>\n",
       "    <tr>\n",
       "      <th>1</th>\n",
       "      <td>4.9</td>\n",
       "      <td>3.0</td>\n",
       "      <td>1.4</td>\n",
       "      <td>0.2</td>\n",
       "      <td>setosa</td>\n",
       "    </tr>\n",
       "    <tr>\n",
       "      <th>2</th>\n",
       "      <td>4.7</td>\n",
       "      <td>3.2</td>\n",
       "      <td>1.3</td>\n",
       "      <td>0.2</td>\n",
       "      <td>setosa</td>\n",
       "    </tr>\n",
       "    <tr>\n",
       "      <th>3</th>\n",
       "      <td>4.6</td>\n",
       "      <td>3.1</td>\n",
       "      <td>1.5</td>\n",
       "      <td>0.2</td>\n",
       "      <td>setosa</td>\n",
       "    </tr>\n",
       "    <tr>\n",
       "      <th>4</th>\n",
       "      <td>5.0</td>\n",
       "      <td>3.6</td>\n",
       "      <td>1.4</td>\n",
       "      <td>0.2</td>\n",
       "      <td>setosa</td>\n",
       "    </tr>\n",
       "  </tbody>\n",
       "</table>\n",
       "</div>"
      ],
      "text/plain": [
       "   sepal_length  sepal_width  petal_length  petal_width species\n",
       "0           5.1          3.5           1.4          0.2  setosa\n",
       "1           4.9          3.0           1.4          0.2  setosa\n",
       "2           4.7          3.2           1.3          0.2  setosa\n",
       "3           4.6          3.1           1.5          0.2  setosa\n",
       "4           5.0          3.6           1.4          0.2  setosa"
      ]
     },
     "execution_count": 51,
     "metadata": {},
     "output_type": "execute_result"
    }
   ],
   "source": [
    "df.head()  #df.tail() gives last 5 rows by default"
   ]
  },
  {
   "cell_type": "markdown",
   "metadata": {},
   "source": [
    "**.shape gives the number of rows and columns in dataframe**"
   ]
  },
  {
   "cell_type": "code",
   "execution_count": 52,
   "metadata": {},
   "outputs": [
    {
     "data": {
      "text/plain": [
       "(150, 5)"
      ]
     },
     "execution_count": 52,
     "metadata": {},
     "output_type": "execute_result"
    }
   ],
   "source": [
    "df.shape"
   ]
  },
  {
   "cell_type": "markdown",
   "metadata": {},
   "source": [
    "**This .info() function gives information about the total number of non-null rows in each column along with name and datatype**"
   ]
  },
  {
   "cell_type": "code",
   "execution_count": 53,
   "metadata": {},
   "outputs": [
    {
     "name": "stdout",
     "output_type": "stream",
     "text": [
      "<class 'pandas.core.frame.DataFrame'>\n",
      "RangeIndex: 150 entries, 0 to 149\n",
      "Data columns (total 5 columns):\n",
      "sepal_length    150 non-null float64\n",
      "sepal_width     150 non-null float64\n",
      "petal_length    150 non-null float64\n",
      "petal_width     150 non-null float64\n",
      "species         150 non-null object\n",
      "dtypes: float64(4), object(1)\n",
      "memory usage: 5.9+ KB\n"
     ]
    }
   ],
   "source": [
    "df.info()"
   ]
  },
  {
   "cell_type": "markdown",
   "metadata": {},
   "source": [
    "**For each column. .describe gives the basic descriptive statistics values **"
   ]
  },
  {
   "cell_type": "code",
   "execution_count": 54,
   "metadata": {},
   "outputs": [
    {
     "data": {
      "text/html": [
       "<div>\n",
       "<style scoped>\n",
       "    .dataframe tbody tr th:only-of-type {\n",
       "        vertical-align: middle;\n",
       "    }\n",
       "\n",
       "    .dataframe tbody tr th {\n",
       "        vertical-align: top;\n",
       "    }\n",
       "\n",
       "    .dataframe thead th {\n",
       "        text-align: right;\n",
       "    }\n",
       "</style>\n",
       "<table border=\"1\" class=\"dataframe\">\n",
       "  <thead>\n",
       "    <tr style=\"text-align: right;\">\n",
       "      <th></th>\n",
       "      <th>sepal_length</th>\n",
       "      <th>sepal_width</th>\n",
       "      <th>petal_length</th>\n",
       "      <th>petal_width</th>\n",
       "    </tr>\n",
       "  </thead>\n",
       "  <tbody>\n",
       "    <tr>\n",
       "      <th>count</th>\n",
       "      <td>150.000000</td>\n",
       "      <td>150.000000</td>\n",
       "      <td>150.000000</td>\n",
       "      <td>150.000000</td>\n",
       "    </tr>\n",
       "    <tr>\n",
       "      <th>mean</th>\n",
       "      <td>5.843333</td>\n",
       "      <td>3.057333</td>\n",
       "      <td>3.758000</td>\n",
       "      <td>1.199333</td>\n",
       "    </tr>\n",
       "    <tr>\n",
       "      <th>std</th>\n",
       "      <td>0.828066</td>\n",
       "      <td>0.435866</td>\n",
       "      <td>1.765298</td>\n",
       "      <td>0.762238</td>\n",
       "    </tr>\n",
       "    <tr>\n",
       "      <th>min</th>\n",
       "      <td>4.300000</td>\n",
       "      <td>2.000000</td>\n",
       "      <td>1.000000</td>\n",
       "      <td>0.100000</td>\n",
       "    </tr>\n",
       "    <tr>\n",
       "      <th>25%</th>\n",
       "      <td>5.100000</td>\n",
       "      <td>2.800000</td>\n",
       "      <td>1.600000</td>\n",
       "      <td>0.300000</td>\n",
       "    </tr>\n",
       "    <tr>\n",
       "      <th>50%</th>\n",
       "      <td>5.800000</td>\n",
       "      <td>3.000000</td>\n",
       "      <td>4.350000</td>\n",
       "      <td>1.300000</td>\n",
       "    </tr>\n",
       "    <tr>\n",
       "      <th>75%</th>\n",
       "      <td>6.400000</td>\n",
       "      <td>3.300000</td>\n",
       "      <td>5.100000</td>\n",
       "      <td>1.800000</td>\n",
       "    </tr>\n",
       "    <tr>\n",
       "      <th>max</th>\n",
       "      <td>7.900000</td>\n",
       "      <td>4.400000</td>\n",
       "      <td>6.900000</td>\n",
       "      <td>2.500000</td>\n",
       "    </tr>\n",
       "  </tbody>\n",
       "</table>\n",
       "</div>"
      ],
      "text/plain": [
       "       sepal_length  sepal_width  petal_length  petal_width\n",
       "count    150.000000   150.000000    150.000000   150.000000\n",
       "mean       5.843333     3.057333      3.758000     1.199333\n",
       "std        0.828066     0.435866      1.765298     0.762238\n",
       "min        4.300000     2.000000      1.000000     0.100000\n",
       "25%        5.100000     2.800000      1.600000     0.300000\n",
       "50%        5.800000     3.000000      4.350000     1.300000\n",
       "75%        6.400000     3.300000      5.100000     1.800000\n",
       "max        7.900000     4.400000      6.900000     2.500000"
      ]
     },
     "execution_count": 54,
     "metadata": {},
     "output_type": "execute_result"
    }
   ],
   "source": [
    "df.describe()"
   ]
  },
  {
   "cell_type": "markdown",
   "metadata": {},
   "source": [
    "**Checking the frequency in each category of Target variable(It is 50 in each of them,this means the data is balanced)**"
   ]
  },
  {
   "cell_type": "code",
   "execution_count": null,
   "metadata": {},
   "outputs": [],
   "source": [
    "df[\"species\"].value_counts()  #df[\"column name\"] filters out the data present in the dataframe. Using . ,we can apply functions()"
   ]
  },
  {
   "cell_type": "markdown",
   "metadata": {},
   "source": [
    "### Visualizations"
   ]
  },
  {
   "cell_type": "markdown",
   "metadata": {},
   "source": [
    "NOTE:<br><br> Do not worry about the functions and parameters.<br> \n",
    "Focus more on how something is being used to get insights. In course of time, you'll get familiar with useful functions and how to play with them."
   ]
  },
  {
   "cell_type": "markdown",
   "metadata": {},
   "source": [
    "**Boxplot is used for checking if there are any outliers so that we can treat them beforehand.<br>\n",
    "So here we see, for each of the three categories of Iris flowers, what are the outliers in sepal_width column.<br>\n",
    "If there are points outside the colour boxes on the corresponding vertical lines, it indicates presence of outliers.**"
   ]
  },
  {
   "cell_type": "code",
   "execution_count": 56,
   "metadata": {},
   "outputs": [
    {
     "data": {
      "text/plain": [
       "<matplotlib.axes._subplots.AxesSubplot at 0xd3539f85f8>"
      ]
     },
     "execution_count": 56,
     "metadata": {},
     "output_type": "execute_result"
    },
    {
     "data": {
      "image/png": "[encoded data removed]",
      "text/plain": [
       "<matplotlib.figure.Figure at 0xd3537e31d0>"
      ]
     },
     "metadata": {},
     "output_type": "display_data"
    }
   ],
   "source": [
    "sns.boxplot(x=\"species\", y=\"sepal_width\", data=df) \n",
    "\n",
    "# This is showing the distribution of sepal_width of different species of flowers as per the data df)"
   ]
  },
  {
   "cell_type": "markdown",
   "metadata": {},
   "source": [
    "**Visualizing relation between sepal width and length**"
   ]
  },
  {
   "cell_type": "code",
   "execution_count": 57,
   "metadata": {},
   "outputs": [
    {
     "data": {
      "image/png": "[encoded data removed]",
      "text/plain": [
       "<matplotlib.figure.Figure at 0xd353867a20>"
      ]
     },
     "metadata": {},
     "output_type": "display_data"
    }
   ],
   "source": [
    "sns.FacetGrid(df,hue=\"species\",height=4).map(plt.scatter,\"sepal_width\",\"sepal_length\").add_legend()\n",
    "plt.show()\n",
    "\n",
    "# From dataframe df, plot the 2-D distribution(scatterplot here) of sepal_length vs sepal_width for each row of data present in dataframe df.\n",
    "\n",
    "# Each dot represnts a row in df and also been marked in different colors according to the species it falls into.\n",
    "\n",
    "# For each row, we have information about sepal_width,sepal_length and species in the same graph"
   ]
  },
  {
   "cell_type": "markdown",
   "metadata": {},
   "source": [
    "**Visualizing relation between petal width and length**"
   ]
  },
  {
   "cell_type": "code",
   "execution_count": 58,
   "metadata": {},
   "outputs": [
    {
     "data": {
      "image/png": "[encoded data removed]",
      "text/plain": [
       "<matplotlib.figure.Figure at 0xd356309940>"
      ]
     },
     "metadata": {},
     "output_type": "display_data"
    }
   ],
   "source": [
    "sns.FacetGrid(df,hue=\"species\",height=4).map(plt.scatter,\"petal_width\",\"petal_length\").add_legend()\n",
    "plt.show()\n",
    "\n",
    "# This graph is similar to the above graph with replacement of sepal information with petal."
   ]
  },
  {
   "cell_type": "markdown",
   "metadata": {},
   "source": [
    "**You see in above two visualizations,the categories are more separable when we use petal width and length. This means that petals are better parameters in terms of predicting the category **"
   ]
  },
  {
   "cell_type": "markdown",
   "metadata": {},
   "source": [
    "**We want all graphs of the target variable(Species) w.r.t. of each pair of columns. So use .pairplot()**"
   ]
  },
  {
   "cell_type": "code",
   "execution_count": 59,
   "metadata": {},
   "outputs": [
    {
     "data": {
      "text/plain": [
       "<seaborn.axisgrid.PairGrid at 0xd35387a3c8>"
      ]
     },
     "execution_count": 59,
     "metadata": {},
     "output_type": "execute_result"
    },
    {
     "data": {
      "image/png": "[encoded data removed]",
      "text/plain": [
       "<matplotlib.figure.Figure at 0xd35387a208>"
      ]
     },
     "metadata": {},
     "output_type": "display_data"
    }
   ],
   "source": [
    "sns.pairplot(df,hue=\"species\")\n",
    "\n",
    "# from df, draw plot of different pairs of columns keeping species as hue(color) in distribution of each"
   ]
  },
  {
   "cell_type": "markdown",
   "metadata": {},
   "source": [
    "**Tips:**<br><br><li><font color=SALMON>use \"Tab\" in case you don't remember the fullname of function or don't remember at all  but know the package it was in. **</font></li><br><font color=SALMON>**Like for sns.pairplot(), type \"sns.\" and hit Tab button. It will open list all the functions within seaborn.**</font>\n",
    "<br><br><li><font color=SALMON>**For hyperparameters to be passed into above function, do sns.pairplot(), click between the brackets and hit \"Shift + Tab\". This will open the official documentation of the function where you can find examples,hyperparameters and explanation of that function.**</font></li>\n"
   ]
  },
  {
   "cell_type": "markdown",
   "metadata": {},
   "source": [
    "## <font color=blue>Step 3: Create Training and Testing sets</font>"
   ]
  },
  {
   "cell_type": "markdown",
   "metadata": {},
   "source": [
    "**Sklearn library:**    Scikit-learn(sklearn) is a machine learning library for the Python programming language.<br>https://scikit-learn.org/stable/"
   ]
  },
  {
   "cell_type": "code",
   "execution_count": null,
   "metadata": {},
   "outputs": [],
   "source": [
    "from sklearn.model_selection import train_test_split   #importing function for splitting the data into train-test\n",
    "\n",
    "\"\"\"We don't directy import sklearn like we did in Pandas and all. Sklearn is really huge and we don't want to import everything\n",
    "\n",
    " We will import the sub-sections of sklearn where the required function resides(like sklearn.model_selection)\"\"\""
   ]
  },
  {
   "cell_type": "code",
   "execution_count": 61,
   "metadata": {},
   "outputs": [],
   "source": [
    "X=df.drop(\"species\",axis=1)    # we filter out the data of all columns except the target column \"Species\"\n",
    "\n",
    "\n",
    "\n",
    "\"\"\"df.drop(\"column_name\",axis=1) -> This gives the dataframe after removing the specified column.\n",
    "   This result needs to be stored in a variable as the removal is not permanent and that column will still be there\n",
    "   in the dataframe.\n",
    "\"\"\"\n",
    "\n",
    "\n",
    "\n",
    "y=df[\"species\"]                #we filter out the target column \"Species\"\n",
    "\n",
    "X_train, X_test, y_train, y_test = train_test_split(X, y, test_size=0.3, random_state=42)  # split ratio 7:3(test_size=0.3)\n",
    "\n",
    "\n",
    "\n",
    "\n",
    "\"\"\"\n",
    "In Python, we can declare multiple variables at once.\n",
    "\n",
    "example: a, b, c, d = 10, 20, 30, 40\n",
    "\n",
    "The values can be passed in many ways into the variables. In example we passed comma separated values. \n",
    "\n",
    "while the function train_test_split returns 4 dataframes which are being stored in the respective cariables\n",
    "\n",
    "\"\"\"\n",
    "\n",
    "# 4 dataframes are created\n",
    "\n",
    "# X_train: All columns data except \"Species\" from the 70% train data\n",
    "# X_test: All columns data except \"Species\" from the 30% test data\n",
    "# y_train: Data of \"Species\" from the 70% train data\n",
    "# y_test: Data of \"Species\" from the 30% test data\n"
   ]
  },
  {
   "cell_type": "code",
   "execution_count": 62,
   "metadata": {},
   "outputs": [
    {
     "name": "stdout",
     "output_type": "stream",
     "text": [
      "(105, 4)\n",
      "(45, 4)\n",
      "(105,)\n",
      "(45,)\n"
     ]
    }
   ],
   "source": [
    "# checking the dimension of new created dataframes\n",
    "\n",
    "print(X_train.shape)\n",
    "print(X_test.shape)\n",
    "print(y_train.shape)\n",
    "print(y_test.shape)"
   ]
  },
  {
   "cell_type": "markdown",
   "metadata": {},
   "source": [
    "## <font color=blue>Step 4: Choosing a model</font>"
   ]
  },
  {
   "cell_type": "markdown",
   "metadata": {},
   "source": [
    "**NOTE: Here we are just doing the implementation. It is very important to know how these model algorithms works and how they are different from each other. Please do read about different models.**"
   ]
  },
  {
   "cell_type": "markdown",
   "metadata": {},
   "source": [
    "**Logistic Regression Model**<br><br> Don't get confused by the name Regression. Logistic regression is a classification model"
   ]
  },
  {
   "cell_type": "code",
   "execution_count": 63,
   "metadata": {},
   "outputs": [],
   "source": [
    "from sklearn.linear_model import LogisticRegression  #importing function of LogisticRegression from libraries\n",
    "\n",
    "LR = LogisticRegression()     # creating an object of the logisticRegression() to train further"
   ]
  },
  {
   "cell_type": "markdown",
   "metadata": {},
   "source": [
    "## <font color=blue>Step 5: Training the model</font>"
   ]
  },
  {
   "cell_type": "code",
   "execution_count": 64,
   "metadata": {},
   "outputs": [
    {
     "data": {
      "text/plain": [
       "LogisticRegression(C=1.0, class_weight=None, dual=False, fit_intercept=True,\n",
       "          intercept_scaling=1, max_iter=100, multi_class='ovr', n_jobs=1,\n",
       "          penalty='l2', random_state=None, solver='liblinear', tol=0.0001,\n",
       "          verbose=0, warm_start=False)"
      ]
     },
     "execution_count": 64,
     "metadata": {},
     "output_type": "execute_result"
    }
   ],
   "source": [
    "LR.fit(X_train,y_train) # training the created object using .fit() \n",
    "\n",
    "# for training both X_train and corresponding y_train are required"
   ]
  },
  {
   "cell_type": "markdown",
   "metadata": {},
   "source": [
    "## <font color=blue>Step 6: Evaluation</font>"
   ]
  },
  {
   "cell_type": "code",
   "execution_count": 65,
   "metadata": {},
   "outputs": [],
   "source": [
    "prediction1=LR.predict(X_test)\n",
    "\n",
    "\"\"\"\n",
    "We have our trained model LR. \n",
    "LR.predict() will predict categories for the values passed into .predict()\n",
    "\n",
    "We need to test the built model LR's performance. So, trying to predict flowers classes for X_test and store the predicted results\n",
    "in a variable prediction1.\n",
    "\n",
    "\"\"\""
   ]
  },
  {
   "cell_type": "code",
   "execution_count": 66,
   "metadata": {},
   "outputs": [],
   "source": [
    "from sklearn.metrics import accuracy_score "
   ]
  },
  {
   "cell_type": "code",
   "execution_count": 67,
   "metadata": {},
   "outputs": [
    {
     "name": "stdout",
     "output_type": "stream",
     "text": [
      "The accuracy of the Logistic Regression is 0.9777777777777777\n"
     ]
    }
   ],
   "source": [
    "print('The accuracy of the Logistic Regression is',accuracy_score(y_test, prediction1)) \n",
    "\n",
    "\"\"\"\n",
    "Y_test contains the true answers of classes of X_test. \n",
    "We'll comparing the actual values of classes of x_test and predicted values of classes of x_test   [(y_test,prediction1)]\n",
    "\n",
    "\"\"\"\n"
   ]
  },
  {
   "cell_type": "code",
   "execution_count": 68,
   "metadata": {},
   "outputs": [],
   "source": [
    "# importing other libraries\n",
    "from sklearn.metrics import confusion_matrix   # this will be 3x3 matrix as we have 3 classes in Target variable\n",
    "from sklearn.metrics import classification_report # this gives a detailed report of performance"
   ]
  },
  {
   "cell_type": "code",
   "execution_count": 69,
   "metadata": {},
   "outputs": [
    {
     "name": "stdout",
     "output_type": "stream",
     "text": [
      "[[19  0  0]\n",
      " [ 0 12  1]\n",
      " [ 0  0 13]]\n"
     ]
    }
   ],
   "source": [
    "print(confusion_matrix(y_test,prediction1))"
   ]
  },
  {
   "cell_type": "markdown",
   "metadata": {},
   "source": [
    "**Above is a predicted class vs actual class matrix. The numbers in diagonals represent the count of instances correctly predicted across different classes<br><br>We had total 45 test values<br><br>19 instances were there of class 1 and all predicted correctly as class 1<br>13 instances of class 2, 12 predicted correctly as class 2 and 1 predicted wrong as class 3 <br>13 instances of class 3 and all predicted correctly as class 3**"
   ]
  },
  {
   "cell_type": "code",
   "execution_count": 70,
   "metadata": {},
   "outputs": [
    {
     "name": "stdout",
     "output_type": "stream",
     "text": [
      "             precision    recall  f1-score   support\n",
      "\n",
      "     setosa       1.00      1.00      1.00        19\n",
      " versicolor       1.00      0.92      0.96        13\n",
      "  virginica       0.93      1.00      0.96        13\n",
      "\n",
      "avg / total       0.98      0.98      0.98        45\n",
      "\n"
     ]
    }
   ],
   "source": [
    "print(classification_report(y_test,prediction1))"
   ]
  },
  {
   "cell_type": "markdown",
   "metadata": {},
   "source": [
    "## <font color=blue>Step 7: Optimization</font>"
   ]
  },
  {
   "cell_type": "markdown",
   "metadata": {},
   "source": [
    "There are several ways of optimizing the model. One of the ways is hyperparameter tuning"
   ]
  },
  {
   "cell_type": "markdown",
   "metadata": {},
   "source": [
    "The hyperparameters in the bracket are the values that needs to be adjusted for optimizing the model"
   ]
  },
  {
   "cell_type": "markdown",
   "metadata": {},
   "source": [
    "<pre>LogisticRegression(C=1.0, class_weight=None, dual=False, fit_intercept=True,<br><pre>\n",
    "           intercept_scaling=1, max_iter=100, multi_class='ovr', n_jobs=1,<br>\n",
    "          penalty='l2', random_state=None, solver='liblinear', tol=0.0001,<br>\n",
    "          verbose=0, warm_start=False)"
   ]
  },
  {
   "cell_type": "markdown",
   "metadata": {},
   "source": [
    "**Let's try other models repeating steps 4,5,6 and compare the performance **"
   ]
  },
  {
   "cell_type": "markdown",
   "metadata": {},
   "source": [
    "**Support Vector Mchine(SVM) Model**<br> SVM comes in 2 variants : Support vector classifier and Support vector regressor "
   ]
  },
  {
   "cell_type": "code",
   "execution_count": 71,
   "metadata": {},
   "outputs": [],
   "source": [
    "from sklearn.svm import SVC # importing Support vector Classifier(SVC) as this is a classifiction problem"
   ]
  },
  {
   "cell_type": "code",
   "execution_count": 72,
   "metadata": {},
   "outputs": [],
   "source": [
    "svm=SVC() # creating object of svm"
   ]
  },
  {
   "cell_type": "code",
   "execution_count": 73,
   "metadata": {},
   "outputs": [
    {
     "data": {
      "text/plain": [
       "SVC(C=1.0, cache_size=200, class_weight=None, coef0=0.0,\n",
       "  decision_function_shape='ovr', degree=3, gamma='auto', kernel='rbf',\n",
       "  max_iter=-1, probability=False, random_state=None, shrinking=True,\n",
       "  tol=0.001, verbose=False)"
      ]
     },
     "execution_count": 73,
     "metadata": {},
     "output_type": "execute_result"
    }
   ],
   "source": [
    "svm.fit(X_train,y_train) # training the created object"
   ]
  },
  {
   "cell_type": "code",
   "execution_count": 74,
   "metadata": {},
   "outputs": [],
   "source": [
    "prediction2=svm.predict(X_test) \n",
    "\n",
    "\"\"\"\n",
    "We have our trained model svm. \n",
    "svm.predict() will predict categories for the values passed into .predict()\n",
    "\n",
    "We need to test the built model svm's performance. So, trying to predict flowers classes for X_test and store the predicted results\n",
    "in a variable prediction2.\n",
    "\n",
    "\"\"\""
   ]
  },
  {
   "cell_type": "code",
   "execution_count": 75,
   "metadata": {},
   "outputs": [
    {
     "name": "stdout",
     "output_type": "stream",
     "text": [
      "The accuracy of the SVM is 1.0\n"
     ]
    }
   ],
   "source": [
    "print('The accuracy of the SVM is',accuracy_score(y_test, prediction2)) # comparing the predicted values with the actual values"
   ]
  },
  {
   "cell_type": "code",
   "execution_count": 76,
   "metadata": {},
   "outputs": [
    {
     "name": "stdout",
     "output_type": "stream",
     "text": [
      "[[19  0  0]\n",
      " [ 0 13  0]\n",
      " [ 0  0 13]]\n"
     ]
    }
   ],
   "source": [
    "print(confusion_matrix(y_test,prediction2))"
   ]
  },
  {
   "cell_type": "code",
   "execution_count": 77,
   "metadata": {},
   "outputs": [
    {
     "name": "stdout",
     "output_type": "stream",
     "text": [
      "             precision    recall  f1-score   support\n",
      "\n",
      "     setosa       1.00      1.00      1.00        19\n",
      " versicolor       1.00      1.00      1.00        13\n",
      "  virginica       1.00      1.00      1.00        13\n",
      "\n",
      "avg / total       1.00      1.00      1.00        45\n",
      "\n"
     ]
    }
   ],
   "source": [
    "print(classification_report(y_test,prediction2))"
   ]
  },
  {
   "cell_type": "markdown",
   "metadata": {},
   "source": [
    "**Decision tree model**<br>Decision Tree comes in 2 variants :DecisionTreeClassifier and DecisionTreeRegressor"
   ]
  },
  {
   "cell_type": "code",
   "execution_count": 78,
   "metadata": {},
   "outputs": [],
   "source": [
    "from sklearn.tree import DecisionTreeClassifier # importing DecisionTreeClassifier as this is a classifiction problem"
   ]
  },
  {
   "cell_type": "code",
   "execution_count": 79,
   "metadata": {},
   "outputs": [],
   "source": [
    "DT=DecisionTreeClassifier() # creating object of Decision tree"
   ]
  },
  {
   "cell_type": "code",
   "execution_count": 80,
   "metadata": {},
   "outputs": [
    {
     "data": {
      "text/plain": [
       "DecisionTreeClassifier(class_weight=None, criterion='gini', max_depth=None,\n",
       "            max_features=None, max_leaf_nodes=None,\n",
       "            min_impurity_decrease=0.0, min_impurity_split=None,\n",
       "            min_samples_leaf=1, min_samples_split=2,\n",
       "            min_weight_fraction_leaf=0.0, presort=False, random_state=None,\n",
       "            splitter='best')"
      ]
     },
     "execution_count": 80,
     "metadata": {},
     "output_type": "execute_result"
    }
   ],
   "source": [
    "DT.fit(X_train,y_train) # training the created object"
   ]
  },
  {
   "cell_type": "code",
   "execution_count": 81,
   "metadata": {},
   "outputs": [
    {
     "name": "stdout",
     "output_type": "stream",
     "text": [
      "The accuracy of the Decision Tree is 1.0\n"
     ]
    }
   ],
   "source": [
    "prediction3=DT.predict(X_test)# predicting for test purpose\n",
    "\n",
    "\"\"\"\n",
    "We have our trained model DT. \n",
    "DT.predict() will predict categories for the values passed into .predict()\n",
    "\n",
    "We need to test the built model DT's performance. So, trying to predict flowers classes for X_test and store the predicted results\n",
    "in a variable prediction1.\n",
    "\n",
    "\"\"\"\n",
    "\n",
    "print('The accuracy of the Decision Tree is',accuracy_score(y_test, prediction3))# comparing the predicted values with the actual values"
   ]
  },
  {
   "cell_type": "code",
   "execution_count": 82,
   "metadata": {},
   "outputs": [
    {
     "name": "stdout",
     "output_type": "stream",
     "text": [
      "[[19  0  0]\n",
      " [ 0 13  0]\n",
      " [ 0  0 13]]\n"
     ]
    }
   ],
   "source": [
    "print(confusion_matrix(y_test,prediction3))"
   ]
  },
  {
   "cell_type": "code",
   "execution_count": 83,
   "metadata": {},
   "outputs": [
    {
     "name": "stdout",
     "output_type": "stream",
     "text": [
      "             precision    recall  f1-score   support\n",
      "\n",
      "     setosa       1.00      1.00      1.00        19\n",
      " versicolor       1.00      1.00      1.00        13\n",
      "  virginica       1.00      1.00      1.00        13\n",
      "\n",
      "avg / total       1.00      1.00      1.00        45\n",
      "\n"
     ]
    }
   ],
   "source": [
    "print(classification_report(y_test,prediction3))"
   ]
  },
  {
   "cell_type": "markdown",
   "metadata": {},
   "source": [
    "## <font color=blue>Step 8: Prediction</font>"
   ]
  },
  {
   "cell_type": "markdown",
   "metadata": {},
   "source": [
    "Now when the performance of models is satisfactory, we can use the trained models for the pupose it was built for.<br><br> There is no difference in the final prediction method from the prediction we did while testing the model performance. The new values to predict will be passed to the model we will get the predicted classes as results.<br><br>"
   ]
  },
  {
   "cell_type": "markdown",
   "metadata": {},
   "source": [
    "**predicted_results=model.predict(dataframe_having_new_data_with_all_columns_except__\"Species_column\")<br>\n",
    "predicted_results will have one column of the results- species for each row**"
   ]
  },
  {
   "cell_type": "markdown",
   "metadata": {},
   "source": [
    "#### <font color=green>Great!  So now when you have learnt how to create ML models,  these are next steps that you would want to take:</font>\n",
    "<ul>\n",
    "<li>Learn more components of EDA in detail</li>\n",
    "<li>Explore more models</li>\n",
    "<li>Learn more about the algorithmic details, pros and cons ,hyperparameters etc.  related to each model you learnt</li>\n",
    "<li>Explore the use cases of each of them</li>\n",
    "<li>Try out beginner level datasets from Kaggle</li>\n",
    "<li>See the approach of other people from their solution</li>\n",
    "\n",
    "<li>Find a study buddy and keep practising :)</li>\n",
    "</ul>  "
   ]
  },
  {
   "cell_type": "code",
   "execution_count": null,
   "metadata": {},
   "outputs": [],
   "source": []
  }
 ],
 "metadata": {
  "kernelspec": {
   "display_name": "Python 3",
   "language": "python",
   "name": "python3"
  },
  "language_info": {
   "codemirror_mode": {
    "name": "ipython",
    "version": 3
   },
   "file_extension": ".py",
   "mimetype": "text/x-python",
   "name": "python",
   "nbconvert_exporter": "python",
   "pygments_lexer": "ipython3",
   "version": "3.5.2"
  }
 },
 "nbformat": 4,
 "nbformat_minor": 2
}
